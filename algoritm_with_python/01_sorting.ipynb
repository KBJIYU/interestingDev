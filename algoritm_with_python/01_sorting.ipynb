{
 "cells": [
  {
   "cell_type": "markdown",
   "metadata": {},
   "source": [
    "### 氣泡排序法\n",
    "Reference: \n",
    "1. http://piratelearner.com/en/C/course/computer-science/algorithms/trivial-sorting-algorithms-bubble-sort/27/\n",
    "2. http://notepad.yehyeh.net/Content/Algorithm/Sort/Bubble/1.php"
   ]
  },
  {
   "cell_type": "code",
   "execution_count": 24,
   "metadata": {},
   "outputs": [
    {
     "data": {
      "text/plain": [
       "[23, 24, 18, 12, 26, 2, 18, 25, 49, 4]"
      ]
     },
     "execution_count": 24,
     "metadata": {},
     "output_type": "execute_result"
    }
   ],
   "source": [
    "import random\n",
    "\n",
    "# create random data\n",
    "data = []\n",
    "for i in range(10):\n",
    "    data.append(random.randint(a=1, b=50))\n",
    "\n"
   ]
  }
 ],
 "metadata": {
  "kernelspec": {
   "display_name": "Python 3",
   "language": "python",
   "name": "python3"
  },
  "language_info": {
   "codemirror_mode": {
    "name": "ipython",
    "version": 3
   },
   "file_extension": ".py",
   "mimetype": "text/x-python",
   "name": "python",
   "nbconvert_exporter": "python",
   "pygments_lexer": "ipython3",
   "version": "3.6.3"
  }
 },
 "nbformat": 4,
 "nbformat_minor": 2
}
